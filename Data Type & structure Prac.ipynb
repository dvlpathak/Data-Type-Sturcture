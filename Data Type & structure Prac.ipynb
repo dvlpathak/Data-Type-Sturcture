{
 "cells": [
  {
   "cell_type": "markdown",
   "id": "dabbc742-9fcf-4c46-8529-a6cb63c191d5",
   "metadata": {},
   "source": [
    "Write a code to create a string with your name and print it."
   ]
  },
  {
   "cell_type": "code",
   "execution_count": 1,
   "id": "985a3ff7-295e-4bc0-afbf-2786a3c2c5df",
   "metadata": {},
   "outputs": [
    {
     "name": "stdout",
     "output_type": "stream",
     "text": [
      "Deval Pathak\n"
     ]
    }
   ],
   "source": [
    "name = \"Deval Pathak\"\n",
    "print(name)\n"
   ]
  },
  {
   "cell_type": "markdown",
   "id": "18ea5fe5-f07b-4239-bc10-3dd68441738f",
   "metadata": {},
   "source": [
    "Write a code to find the length of the string \"Hello World\""
   ]
  },
  {
   "cell_type": "code",
   "execution_count": 2,
   "id": "604572de-2966-45de-91fc-d7127d7cdec0",
   "metadata": {},
   "outputs": [
    {
     "name": "stdout",
     "output_type": "stream",
     "text": [
      "11\n"
     ]
    }
   ],
   "source": [
    "text = \"Hello World\"\n",
    "print(len(text))"
   ]
  },
  {
   "cell_type": "markdown",
   "id": "dbf4ee47-0d53-48b2-a5f8-a76713f62dba",
   "metadata": {},
   "source": [
    "Write a code to slice the first 3 characters from the string \"Python Programming\"."
   ]
  },
  {
   "cell_type": "code",
   "execution_count": 3,
   "id": "a542ded5-2f14-4988-800b-cbec6b31bb2f",
   "metadata": {},
   "outputs": [
    {
     "name": "stdout",
     "output_type": "stream",
     "text": [
      "Pyt\n"
     ]
    }
   ],
   "source": [
    "text = \"Python Programming\"\n",
    "print(text[:3])"
   ]
  },
  {
   "cell_type": "markdown",
   "id": "522afbc2-da47-4d81-adfd-e3b73a7b68f5",
   "metadata": {},
   "source": [
    "Write a code to convert the string \"hello\" to uppercase."
   ]
  },
  {
   "cell_type": "code",
   "execution_count": 4,
   "id": "c8b89399-e42b-45c9-a493-ffded9db57ae",
   "metadata": {},
   "outputs": [
    {
     "name": "stdout",
     "output_type": "stream",
     "text": [
      "HELLO\n"
     ]
    }
   ],
   "source": [
    "text = \"hello\"\n",
    "print(text.upper())"
   ]
  },
  {
   "cell_type": "markdown",
   "id": "ddfcc585-527d-4df7-b77c-e985a05325a9",
   "metadata": {},
   "source": [
    "Write a code to replace the word \"apple\" with \"orange\" in the string \"I like apple\"."
   ]
  },
  {
   "cell_type": "code",
   "execution_count": 5,
   "id": "fb5eac3f-f350-42d3-9be1-75aff3d69f79",
   "metadata": {},
   "outputs": [
    {
     "name": "stdout",
     "output_type": "stream",
     "text": [
      "I like orange\n"
     ]
    }
   ],
   "source": [
    "text = \"I like apple\"\n",
    "print(text.replace(\"apple\", \"orange\"))"
   ]
  },
  {
   "cell_type": "markdown",
   "id": "96afc56e-4858-4052-a4b6-a40bb7665919",
   "metadata": {},
   "source": [
    "Write a code to create a list with numbers 1 to 5 and print it."
   ]
  },
  {
   "cell_type": "code",
   "execution_count": 6,
   "id": "e339e3c2-2689-4713-9793-8ef3fe48de95",
   "metadata": {},
   "outputs": [
    {
     "name": "stdout",
     "output_type": "stream",
     "text": [
      "[1, 2, 3, 4, 5]\n"
     ]
    }
   ],
   "source": [
    "numbers = [1, 2, 3, 4, 5]\n",
    "print(numbers)"
   ]
  },
  {
   "cell_type": "code",
   "execution_count": null,
   "id": "1b82c8ee-724e-48ce-a53b-0c30a9d06081",
   "metadata": {},
   "outputs": [],
   "source": [
    "Write a code to append the number 10 to the list [1, 2, 3, 4]."
   ]
  },
  {
   "cell_type": "code",
   "execution_count": 7,
   "id": "bf29976d-5b77-4937-9cd6-1037e762584c",
   "metadata": {},
   "outputs": [
    {
     "name": "stdout",
     "output_type": "stream",
     "text": [
      "[1, 2, 3, 4, 10]\n"
     ]
    }
   ],
   "source": [
    "numbers = [1, 2, 3, 4]\n",
    "numbers.append(10)\n",
    "print(numbers)"
   ]
  },
  {
   "cell_type": "code",
   "execution_count": null,
   "id": "064038f9-2c81-43de-9895-ff26a81dcc64",
   "metadata": {},
   "outputs": [],
   "source": [
    "Write a code to remove the number 3 from the list [1, 2, 3, 4, 5]."
   ]
  },
  {
   "cell_type": "code",
   "execution_count": 8,
   "id": "3daaef56-32c7-4847-b5c9-647261940d35",
   "metadata": {},
   "outputs": [
    {
     "name": "stdout",
     "output_type": "stream",
     "text": [
      "[1, 2, 4, 5]\n"
     ]
    }
   ],
   "source": [
    "numbers = [1, 2, 3, 4, 5]\n",
    "numbers.remove(3)\n",
    "print(numbers)"
   ]
  },
  {
   "cell_type": "markdown",
   "id": "c55cd3f9-009a-4e2e-aa4b-e5f7dc0692ab",
   "metadata": {},
   "source": [
    " Write a code to access the second element in the list ['a', 'b', 'c', 'd']"
   ]
  },
  {
   "cell_type": "code",
   "execution_count": 9,
   "id": "42abd48b-b6c1-4815-bf74-5b6862780ff7",
   "metadata": {},
   "outputs": [
    {
     "name": "stdout",
     "output_type": "stream",
     "text": [
      "b\n"
     ]
    }
   ],
   "source": [
    "letters = ['a', 'b', 'c', 'd']\n",
    "print(letters[1])"
   ]
  },
  {
   "cell_type": "markdown",
   "id": "aef21a69-5561-4d0b-b417-2258233450f6",
   "metadata": {},
   "source": [
    "Write a code to reverse the list [10, 20, 30, 40, 50]."
   ]
  },
  {
   "cell_type": "code",
   "execution_count": 10,
   "id": "4baed96c-e146-40dd-aa8e-2f51c570b7bb",
   "metadata": {},
   "outputs": [
    {
     "name": "stdout",
     "output_type": "stream",
     "text": [
      "[50, 40, 30, 20, 10]\n"
     ]
    }
   ],
   "source": [
    "numbers = [10, 20, 30, 40, 50]\n",
    "numbers.reverse()\n",
    "print(numbers)"
   ]
  },
  {
   "cell_type": "markdown",
   "id": "f69ef22e-4726-400a-83b1-43b27617d090",
   "metadata": {},
   "source": [
    " Write a code to create a tuple with the elements 100, 200, 300 and print it."
   ]
  },
  {
   "cell_type": "code",
   "execution_count": 1,
   "id": "0b8a1179-3b8a-4ed7-82d8-81a95fc42763",
   "metadata": {},
   "outputs": [
    {
     "name": "stdout",
     "output_type": "stream",
     "text": [
      "(100, 200, 300)\n"
     ]
    }
   ],
   "source": [
    "my_tuple = (100, 200, 300)\n",
    "print(my_tuple)"
   ]
  },
  {
   "cell_type": "markdown",
   "id": "59574dd4-c2a3-4996-b981-8ea964db79be",
   "metadata": {},
   "source": [
    " Write a code to access the second-to-last element of the tuple ('red', 'green', 'blue', 'yellow')."
   ]
  },
  {
   "cell_type": "code",
   "execution_count": 2,
   "id": "f20d1cf7-00ca-4b63-a1c6-089580b54fa9",
   "metadata": {},
   "outputs": [
    {
     "name": "stdout",
     "output_type": "stream",
     "text": [
      "blue\n"
     ]
    }
   ],
   "source": [
    "colors = ('red', 'green', 'blue', 'yellow')\n",
    "print(colors[-2])"
   ]
  },
  {
   "cell_type": "markdown",
   "id": "3a95ba89-53fb-4bed-9430-9d68ea321b6c",
   "metadata": {},
   "source": [
    "Write a code to find the minimum number in the tuple (10, 20, 5, 15)."
   ]
  },
  {
   "cell_type": "code",
   "execution_count": 3,
   "id": "3f42c9cb-9078-4e19-b6fe-b57670c108d8",
   "metadata": {},
   "outputs": [
    {
     "name": "stdout",
     "output_type": "stream",
     "text": [
      "5\n"
     ]
    }
   ],
   "source": [
    "numbers = (10, 20, 5, 15)\n",
    "print(min(numbers))\n"
   ]
  },
  {
   "cell_type": "markdown",
   "id": "25823853-5912-4ac1-ab34-29d05ea88ccb",
   "metadata": {},
   "source": [
    "Write a code to find the index of the element \"cat\" in the tuple ('dog', 'cat', 'rabbit')"
   ]
  },
  {
   "cell_type": "code",
   "execution_count": 4,
   "id": "c39319bd-1b15-422f-8874-87e98ab7cc6e",
   "metadata": {},
   "outputs": [
    {
     "name": "stdout",
     "output_type": "stream",
     "text": [
      "1\n"
     ]
    }
   ],
   "source": [
    "animals = ('dog', 'cat', 'rabbit')\n",
    "print(animals.index('cat'))\n"
   ]
  },
  {
   "cell_type": "markdown",
   "id": "9ae5304e-0e09-4259-863f-2d080e8e9c6d",
   "metadata": {},
   "source": [
    "Write a code to create a tuple containing three different fruits and check if \"kiwi\" is in it."
   ]
  },
  {
   "cell_type": "code",
   "execution_count": 5,
   "id": "648108be-f62f-4c13-a4ac-6425352e7f75",
   "metadata": {},
   "outputs": [
    {
     "name": "stdout",
     "output_type": "stream",
     "text": [
      "False\n"
     ]
    }
   ],
   "source": [
    "fruits = ('apple', 'banana', 'mango')\n",
    "print(\"kiwi\" in fruits)\n"
   ]
  },
  {
   "cell_type": "markdown",
   "id": "03a9932f-bbcd-4143-ab46-0178240a4632",
   "metadata": {},
   "source": [
    "Write a code to create a set with the elements 'a', 'b', 'c' and print it."
   ]
  },
  {
   "cell_type": "code",
   "execution_count": 9,
   "id": "03d4cbc9-dab8-4b67-b222-f77050b16c09",
   "metadata": {},
   "outputs": [
    {
     "name": "stdout",
     "output_type": "stream",
     "text": [
      "{'c', 'b', 'a'}\n"
     ]
    }
   ],
   "source": [
    "my_set = {'a', 'b', 'c'}\n",
    "print(my_set)"
   ]
  },
  {
   "cell_type": "markdown",
   "id": "d84d4a56-c385-411f-b8b2-8256761e1f43",
   "metadata": {},
   "source": [
    "Write a code to clear all elements from the set {1, 2, 3, 4, 5}."
   ]
  },
  {
   "cell_type": "code",
   "execution_count": 10,
   "id": "93ef93ab-96e4-4927-97b3-29795c431118",
   "metadata": {},
   "outputs": [
    {
     "name": "stdout",
     "output_type": "stream",
     "text": [
      "set()\n"
     ]
    }
   ],
   "source": [
    "my_set = {1, 2, 3, 4, 5}\n",
    "my_set.clear()\n",
    "print(my_set)\n"
   ]
  },
  {
   "cell_type": "markdown",
   "id": "bbd0dccc-e477-4dd1-bb29-84f7a1951ec7",
   "metadata": {},
   "source": [
    "Write a code to remove the element 4 from the set {1, 2, 3, 4}."
   ]
  },
  {
   "cell_type": "code",
   "execution_count": 11,
   "id": "b991dff6-49e5-43f5-b380-177287ce150c",
   "metadata": {},
   "outputs": [
    {
     "name": "stdout",
     "output_type": "stream",
     "text": [
      "{1, 2, 3}\n"
     ]
    }
   ],
   "source": [
    "my_set = {1, 2, 3, 4}\n",
    "my_set.remove(4)\n",
    "print(my_set)\n"
   ]
  },
  {
   "cell_type": "markdown",
   "id": "e24569de-0546-45b6-b560-8d055369caa8",
   "metadata": {},
   "source": [
    "Write a code to find the union of two sets {1, 2, 3} and {3, 4, 5}."
   ]
  },
  {
   "cell_type": "code",
   "execution_count": 12,
   "id": "dee91b5a-6f60-4c72-9d8e-f9b4eec29f33",
   "metadata": {},
   "outputs": [
    {
     "name": "stdout",
     "output_type": "stream",
     "text": [
      "{1, 2, 3, 4, 5}\n"
     ]
    }
   ],
   "source": [
    "set1 = {1, 2, 3}\n",
    "set2 = {3, 4, 5}\n",
    "print(set1.union(set2))\n"
   ]
  },
  {
   "cell_type": "markdown",
   "id": "e2304bac-fbe3-4202-95c3-f63189570009",
   "metadata": {},
   "source": [
    "Write a code to find the intersection of two sets {1, 2, 3} and {2, 3, 4}."
   ]
  },
  {
   "cell_type": "code",
   "execution_count": 13,
   "id": "ba43dd25-194b-4ed5-bee8-c31282e4540a",
   "metadata": {},
   "outputs": [
    {
     "name": "stdout",
     "output_type": "stream",
     "text": [
      "{2, 3}\n"
     ]
    }
   ],
   "source": [
    "set1 = {1, 2, 3}\n",
    "set2 = {2, 3, 4}\n",
    "print(set1.intersection(set2))\n"
   ]
  },
  {
   "cell_type": "markdown",
   "id": "668f1a10-128b-4dd6-adfb-a7db47f0559c",
   "metadata": {},
   "source": [
    "Write a code to create a dictionary with the keys \"name\", \"age\", and \"city\", and print it."
   ]
  },
  {
   "cell_type": "code",
   "execution_count": 14,
   "id": "5e917fe3-f06b-42d1-96f2-3fd2be5e564d",
   "metadata": {},
   "outputs": [
    {
     "name": "stdout",
     "output_type": "stream",
     "text": [
      "{'name': 'John', 'age': 25, 'city': 'New York'}\n"
     ]
    }
   ],
   "source": [
    "person = {\"name\": \"John\", \"age\": 25, \"city\": \"New York\"}\n",
    "print(person)\n"
   ]
  },
  {
   "cell_type": "markdown",
   "id": "481b43c2-fee0-4ac9-93d4-3925d9fb88ea",
   "metadata": {},
   "source": [
    "Write a code to add a new key-value pair \"country\": \"USA\" to the dictionary {'name': 'John', 'age': 25}."
   ]
  },
  {
   "cell_type": "code",
   "execution_count": 23,
   "id": "e5671e7a-2102-4931-8582-1dfd4fb0d2c7",
   "metadata": {},
   "outputs": [
    {
     "name": "stdout",
     "output_type": "stream",
     "text": [
      "{'name': 'John', 'age': 25, 'country': 'USA'}\n"
     ]
    }
   ],
   "source": [
    "person = {'name': 'John', 'age': 25}\n",
    "person['country'] = 'USA'\n",
    "print(person)\n"
   ]
  },
  {
   "cell_type": "markdown",
   "id": "d9c0ac94-9990-4e01-953e-82bcca28c136",
   "metadata": {},
   "source": [
    "Write a code to access the value associated with the key \"name\" in the dictionary {'name': 'Alice', 'age': 30}."
   ]
  },
  {
   "cell_type": "code",
   "execution_count": 22,
   "id": "d47e3410-13a7-42fc-9366-b7dcbc8bee60",
   "metadata": {},
   "outputs": [
    {
     "name": "stdout",
     "output_type": "stream",
     "text": [
      "Alice\n"
     ]
    }
   ],
   "source": [
    "person = {'name': 'Alice', 'age': 30}\n",
    "print(person['name'])\n"
   ]
  },
  {
   "cell_type": "markdown",
   "id": "8ab7df81-e319-4b60-8fdc-fa229916fb32",
   "metadata": {},
   "source": [
    "Write a code to remove the key \"age\" from the dictionary {'name': 'Bob', 'age': 22, 'city': 'New York'}."
   ]
  },
  {
   "cell_type": "code",
   "execution_count": 21,
   "id": "55042a42-49ea-47a7-bcd0-8fa90f7b3055",
   "metadata": {},
   "outputs": [
    {
     "name": "stdout",
     "output_type": "stream",
     "text": [
      "{'name': 'Bob', 'city': 'New York'}\n"
     ]
    }
   ],
   "source": [
    "person = {'name': 'Bob', 'age': 22, 'city': 'New York'}\n",
    "del person['age']\n",
    "print(person)\n"
   ]
  },
  {
   "cell_type": "markdown",
   "id": "dbf5a3a0-f191-402b-be80-c8fdbc6836fa",
   "metadata": {},
   "source": [
    " Write a code to check if the key \"city\" exists in the dictionary {'name': 'Alice', 'city': 'Paris'}."
   ]
  },
  {
   "cell_type": "code",
   "execution_count": 20,
   "id": "aa994caa-c902-417d-9246-70cb8d13f408",
   "metadata": {},
   "outputs": [
    {
     "name": "stdout",
     "output_type": "stream",
     "text": [
      "True\n"
     ]
    }
   ],
   "source": [
    "person = {'name': 'Alice', 'city': 'Paris'}\n",
    "print(\"city\" in person)\n"
   ]
  },
  {
   "cell_type": "markdown",
   "id": "4fc1ede0-dfc0-4588-8d6c-612d43f41af5",
   "metadata": {},
   "source": [
    " Write a code to create a list, a tuple, and a dictionary, and print them all."
   ]
  },
  {
   "cell_type": "code",
   "execution_count": 19,
   "id": "1a1bca66-51d8-4448-a260-c2acc1018a3f",
   "metadata": {},
   "outputs": [
    {
     "name": "stdout",
     "output_type": "stream",
     "text": [
      "[1, 2, 3]\n",
      "(4, 5, 6)\n",
      "{'a': 1, 'b': 2}\n"
     ]
    }
   ],
   "source": [
    "my_list = [1, 2, 3]\n",
    "my_tuple = (4, 5, 6)\n",
    "my_dict = {'a': 1, 'b': 2}\n",
    "print(my_list)\n",
    "print(my_tuple)\n",
    "print(my_dict)\n"
   ]
  },
  {
   "cell_type": "markdown",
   "id": "0d92645b-4261-4d51-9c3d-07aaa506bd5a",
   "metadata": {},
   "source": [
    "Write a code to create a list of 5 random numbers between 1 and 100, sort it in ascending order, and print the\n",
    "result.(replaced)"
   ]
  },
  {
   "cell_type": "code",
   "execution_count": 18,
   "id": "c8c5385e-6cd8-4c5c-8f25-0479181ff59a",
   "metadata": {},
   "outputs": [
    {
     "name": "stdout",
     "output_type": "stream",
     "text": [
      "[20, 46, 64, 82, 96]\n"
     ]
    }
   ],
   "source": [
    "import random\n",
    "\n",
    "random_numbers = random.sample(range(1, 101), 5)\n",
    "random_numbers.sort()\n",
    "print(random_numbers)\n"
   ]
  },
  {
   "cell_type": "markdown",
   "id": "8f52321c-d5fc-4e53-9cd3-53d8d1177f57",
   "metadata": {},
   "source": [
    " Write a code to create a list with strings and print the element at the third index."
   ]
  },
  {
   "cell_type": "code",
   "execution_count": 17,
   "id": "a489e7fa-6469-41a4-b564-0acc4eaa1d36",
   "metadata": {},
   "outputs": [
    {
     "name": "stdout",
     "output_type": "stream",
     "text": [
      "date\n"
     ]
    }
   ],
   "source": [
    "words = [\"apple\", \"banana\", \"cherry\", \"date\", \"elderberry\"]\n",
    "print(words[3])\n"
   ]
  },
  {
   "cell_type": "markdown",
   "id": "d8c99a69-0c2b-4cd0-ab65-be27be7f1740",
   "metadata": {},
   "source": [
    "Write a code to combine two dictionaries into one and print the result."
   ]
  },
  {
   "cell_type": "code",
   "execution_count": 16,
   "id": "4e5593e5-db51-4571-bdd6-a173151068b5",
   "metadata": {},
   "outputs": [
    {
     "name": "stdout",
     "output_type": "stream",
     "text": [
      "{'a': 1, 'b': 2, 'c': 3, 'd': 4}\n"
     ]
    }
   ],
   "source": [
    "dict1 = {'a': 1, 'b': 2}\n",
    "dict2 = {'c': 3, 'd': 4}\n",
    "combined = {**dict1, **dict2}\n",
    "print(combined)\n"
   ]
  },
  {
   "cell_type": "markdown",
   "id": "98324794-485d-4aaf-893e-241aaf7146c6",
   "metadata": {},
   "source": [
    "Write a code to convert a list of strings into a set."
   ]
  },
  {
   "cell_type": "code",
   "execution_count": 15,
   "id": "6721cb34-5f89-4d63-aa92-dc398a95876e",
   "metadata": {},
   "outputs": [
    {
     "name": "stdout",
     "output_type": "stream",
     "text": [
      "{'cherry', 'apple', 'banana'}\n"
     ]
    }
   ],
   "source": [
    "words = [\"apple\", \"banana\", \"cherry\", \"apple\"]\n",
    "word_set = set(words)\n",
    "print(word_set)\n"
   ]
  },
  {
   "cell_type": "code",
   "execution_count": null,
   "id": "3ef66294-9f52-4785-9050-7d6ff544a9c2",
   "metadata": {},
   "outputs": [],
   "source": []
  }
 ],
 "metadata": {
  "kernelspec": {
   "display_name": "Python 3 (ipykernel)",
   "language": "python",
   "name": "python3"
  },
  "language_info": {
   "codemirror_mode": {
    "name": "ipython",
    "version": 3
   },
   "file_extension": ".py",
   "mimetype": "text/x-python",
   "name": "python",
   "nbconvert_exporter": "python",
   "pygments_lexer": "ipython3",
   "version": "3.12.7"
  }
 },
 "nbformat": 4,
 "nbformat_minor": 5
}
